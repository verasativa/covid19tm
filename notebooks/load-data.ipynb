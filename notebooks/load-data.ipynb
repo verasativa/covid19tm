{
 "cells": [
  {
   "cell_type": "markdown",
   "metadata": {},
   "source": [
    "# Explore data loading\n",
    "## Build a list of json files"
   ]
  },
  {
   "cell_type": "code",
   "execution_count": 1,
   "metadata": {},
   "outputs": [],
   "source": [
    "import os\n",
    "\n",
    "dirs_with_jsons = [\n",
    "    '../data/raw/2020-03-13/biorxiv_medrxiv/biorxiv_medrxiv',\n",
    "    '../data/raw/2020-03-13/comm_use_subset/comm_use_subset',\n",
    "    '../data/raw/2020-03-13/noncomm_use_subset/noncomm_use_subset',\n",
    "    '../data/raw/2020-03-13/pmc_custom_license/pmc_custom_license'\n",
    "]\n",
    "\n",
    "json_list = []\n",
    "\n",
    "for dir_to_parse in dirs_with_jsons:\n",
    "    for file in os.scandir(dir_to_parse):\n",
    "        if file.name.split('.')[-1] == 'json':\n",
    "            json_list.append(dir_to_parse + '/' + file.name)"
   ]
  },
  {
   "cell_type": "markdown",
   "metadata": {},
   "source": [
    "## Lets see how many docs are here"
   ]
  },
  {
   "cell_type": "code",
   "execution_count": 2,
   "metadata": {},
   "outputs": [
    {
     "data": {
      "text/plain": [
       "13202"
      ]
     },
     "execution_count": 2,
     "metadata": {},
     "output_type": "execute_result"
    }
   ],
   "source": [
    "len(json_list)"
   ]
  },
  {
   "cell_type": "markdown",
   "metadata": {},
   "source": [
    "## Load some text"
   ]
  },
  {
   "cell_type": "code",
   "execution_count": 3,
   "metadata": {},
   "outputs": [],
   "source": [
    "import json\n",
    "\n",
    "with open(json_list[0], 'r') as file:\n",
    "    data = json.load(file)"
   ]
  },
  {
   "cell_type": "code",
   "execution_count": 4,
   "metadata": {},
   "outputs": [
    {
     "data": {
      "text/plain": [
       "\"In the absence of a curative treatment, the highly active antiretroviral therapy (HAART) keeps the HIV-1 virus of AIDS patients under control. HAART combines drugs targeting different stages of viral replication including the integration step catalyzed by the integrase protein (IN) (1) . Integration of viral DNA into host genome involves two steps catalyzed by IN: (i) cleavage of a dinucleotide from each 3'-end of the viral DNA (3'processing), and (ii) insertion of this processed viral DNA into the host DNA (strand-transfer) (2) . Clinical IN strand transfer inhibitors (INSTIs) target the catalytic site of the enzyme to specifically inhibit the DNA joining reaction, however, as with all anti-AIDS treatments, the continued success of these drugs is persistently disrupted by resistance mutations (1, 2) . Although 3'-processing can be carried out by monomeric IN (3) , the assembly of IN functional multimers is imperative for the strand-transfer activity (4) (5) (6) (7) (8) , and for virus particle maturation and production (reviewed in (9, 10) ). In the continued quest to identify and develop new drugs, allosteric inhibitors that bind sites outside the catalytic core and disrupt IN multimerization are emerging with potent therapeutic potential (11) (12) (13) (14) .\""
      ]
     },
     "execution_count": 4,
     "metadata": {},
     "output_type": "execute_result"
    }
   ],
   "source": [
    "data['body_text'][0]['text']"
   ]
  },
  {
   "cell_type": "markdown",
   "metadata": {},
   "source": [
    "## Let's remove the references"
   ]
  },
  {
   "cell_type": "code",
   "execution_count": 5,
   "metadata": {},
   "outputs": [
    {
     "data": {
      "text/plain": [
       "\"In the absence of a curative treatment, the highly active antiretroviral therapy (HAART) keeps the HIV-1 virus of AIDS patients under control. HAART combines drugs targeting different stages of viral replication including the integration step catalyzed by the integrase protein (IN)  . Integration of viral DNA into host genome involves two steps catalyzed by IN:  cleavage of a dinucleotide from each 3'-end of the viral DNA (3'processing), and  insertion of this processed viral DNA into the host DNA (strand-transfer)  . Clinical IN strand transfer inhibitors (INSTIs) target the catalytic site of the enzyme to specifically inhibit the DNA joining reaction, however, as with all anti-AIDS treatments, the continued success of these drugs is persistently disrupted by resistance mutations  . Although 3'-processing can be carried out by monomeric IN  , the assembly of IN functional multimers is imperative for the strand-transfer activity      , and for virus particle maturation and production (reviewed in  ). In the continued quest to identify and develop new drugs, allosteric inhibitors that bind sites outside the catalytic core and disrupt IN multimerization are emerging with potent therapeutic potential     .\""
      ]
     },
     "execution_count": 5,
     "metadata": {},
     "output_type": "execute_result"
    }
   ],
   "source": [
    "import re\n",
    "\n",
    "regex = \"\\([\\d, i]+\\)\"\n",
    "re.sub(regex, '', data['body_text'][0]['text'])"
   ]
  },
  {
   "cell_type": "code",
   "execution_count": 6,
   "metadata": {},
   "outputs": [
    {
     "name": "stderr",
     "output_type": "stream",
     "text": [
      "[nltk_data] Downloading package punkt to /Users/v/nltk_data...\n",
      "[nltk_data]   Package punkt is already up-to-date!\n"
     ]
    },
    {
     "data": {
      "text/plain": [
       "True"
      ]
     },
     "execution_count": 6,
     "metadata": {},
     "output_type": "execute_result"
    }
   ],
   "source": [
    "import nltk\n",
    "nltk.download('punkt')"
   ]
  },
  {
   "cell_type": "code",
   "execution_count": 7,
   "metadata": {},
   "outputs": [
    {
     "data": {
      "text/plain": [
       "['In the absence of a curative treatment, the highly active antiretroviral therapy (HAART) keeps the HIV-1 virus of AIDS patients under control.',\n",
       " 'HAART combines drugs targeting different stages of viral replication including the integration step catalyzed by the integrase protein (IN) (1) .',\n",
       " \"Integration of viral DNA into host genome involves two steps catalyzed by IN: (i) cleavage of a dinucleotide from each 3'-end of the viral DNA (3'processing), and (ii) insertion of this processed viral DNA into the host DNA (strand-transfer) (2) .\",\n",
       " 'Clinical IN strand transfer inhibitors (INSTIs) target the catalytic site of the enzyme to specifically inhibit the DNA joining reaction, however, as with all anti-AIDS treatments, the continued success of these drugs is persistently disrupted by resistance mutations (1, 2) .',\n",
       " \"Although 3'-processing can be carried out by monomeric IN (3) , the assembly of IN functional multimers is imperative for the strand-transfer activity (4) (5) (6) (7) (8) , and for virus particle maturation and production (reviewed in (9, 10) ).\",\n",
       " 'In the continued quest to identify and develop new drugs, allosteric inhibitors that bind sites outside the catalytic core and disrupt IN multimerization are emerging with potent therapeutic potential (11) (12) (13) (14) .']"
      ]
     },
     "execution_count": 7,
     "metadata": {},
     "output_type": "execute_result"
    }
   ],
   "source": [
    "from nltk.tokenize import sent_tokenize\n",
    "\n",
    "sent_tokenize(data['body_text'][0]['text'])"
   ]
  },
  {
   "cell_type": "markdown",
   "metadata": {},
   "source": [
    "## Let's build a corpus for tf-idf"
   ]
  },
  {
   "cell_type": "code",
   "execution_count": 8,
   "metadata": {},
   "outputs": [
    {
     "data": {
      "application/vnd.jupyter.widget-view+json": {
       "model_id": "77bea629007945df8ea10fcb2dc73aae",
       "version_major": 2,
       "version_minor": 0
      },
      "text/plain": [
       "HBox(children=(IntProgress(value=0, max=13202), HTML(value='')))"
      ]
     },
     "metadata": {},
     "output_type": "display_data"
    },
    {
     "name": "stdout",
     "output_type": "stream",
     "text": [
      "\n"
     ]
    }
   ],
   "source": [
    "from tqdm.auto import tqdm\n",
    "\n",
    "index = []\n",
    "docs = []\n",
    "for doc_file in tqdm(json_list, unit='Papers'):\n",
    "    with open(doc_file, 'r') as file:\n",
    "        data = json.load(file)\n",
    "        \n",
    "        for parragraph_data in data['body_text']:\n",
    "            parragraph = re.sub(\"\\([\\d, i]+\\)\", '', parragraph_data['text']) + '\\n'\n",
    "            \n",
    "            for sentence in sent_tokenize(parragraph):\n",
    "                index.append([len(docs), data['paper_id'], data['metadata']['title'], sentence])\n",
    "                docs.append(sentence)"
   ]
  },
  {
   "cell_type": "code",
   "execution_count": 9,
   "metadata": {},
   "outputs": [],
   "source": [
    "import pandas as pd\n",
    "\n",
    "sentence_index = pd.DataFrame(index, columns=['sentence_id', 'paper_id', 'paper_title', 'sentence'])"
   ]
  },
  {
   "cell_type": "code",
   "execution_count": 10,
   "metadata": {},
   "outputs": [
    {
     "data": {
      "text/html": [
       "<div>\n",
       "<style scoped>\n",
       "    .dataframe tbody tr th:only-of-type {\n",
       "        vertical-align: middle;\n",
       "    }\n",
       "\n",
       "    .dataframe tbody tr th {\n",
       "        vertical-align: top;\n",
       "    }\n",
       "\n",
       "    .dataframe thead th {\n",
       "        text-align: right;\n",
       "    }\n",
       "</style>\n",
       "<table border=\"1\" class=\"dataframe\">\n",
       "  <thead>\n",
       "    <tr style=\"text-align: right;\">\n",
       "      <th></th>\n",
       "      <th>sentence_id</th>\n",
       "      <th>paper_id</th>\n",
       "      <th>paper_title</th>\n",
       "      <th>sentence</th>\n",
       "    </tr>\n",
       "  </thead>\n",
       "  <tbody>\n",
       "    <tr>\n",
       "      <td>472257</td>\n",
       "      <td>472257</td>\n",
       "      <td>9b5a336dab77072af21829b37a7b8318ae1dec6d</td>\n",
       "      <td>The 17th Rocky Mountain Virology Association M...</td>\n",
       "      <td>Treatment with 12 µM of imatinib reduced the p...</td>\n",
       "    </tr>\n",
       "    <tr>\n",
       "      <td>209454</td>\n",
       "      <td>209454</td>\n",
       "      <td>5c4dfdf8ee6230324845b917be55c47d1e991f2c</td>\n",
       "      <td>hCLE/C14orf166 Associates with DDX1-HSPC117-FA...</td>\n",
       "      <td>Western blotting was carried out as described ...</td>\n",
       "    </tr>\n",
       "    <tr>\n",
       "      <td>1931928</td>\n",
       "      <td>1931928</td>\n",
       "      <td>9d651ee3cc003d22f9ffff68394494087112ec45</td>\n",
       "      <td>Complete viral RNA genome sequencing of ultra-...</td>\n",
       "      <td>For Ovation RNA-Seq version 1 reactions, no sh...</td>\n",
       "    </tr>\n",
       "    <tr>\n",
       "      <td>363783</td>\n",
       "      <td>363783</td>\n",
       "      <td>a5293bb4f17ad25a72133cdd9eee8748dd6a4b8d</td>\n",
       "      <td>A1 Pirfenidone inhibits TGF-b1-induced extrace...</td>\n",
       "      <td>Methods: ASCs were injected intravenously in w...</td>\n",
       "    </tr>\n",
       "    <tr>\n",
       "      <td>586240</td>\n",
       "      <td>586240</td>\n",
       "      <td>83b302c75378ce58e35ef93b6214a6ec330998c1</td>\n",
       "      <td>Modeling pathogenesis of emergent and pre-emer...</td>\n",
       "      <td>2015 Menachery et al.</td>\n",
       "    </tr>\n",
       "  </tbody>\n",
       "</table>\n",
       "</div>"
      ],
      "text/plain": [
       "         sentence_id                                  paper_id  \\\n",
       "472257        472257  9b5a336dab77072af21829b37a7b8318ae1dec6d   \n",
       "209454        209454  5c4dfdf8ee6230324845b917be55c47d1e991f2c   \n",
       "1931928      1931928  9d651ee3cc003d22f9ffff68394494087112ec45   \n",
       "363783        363783  a5293bb4f17ad25a72133cdd9eee8748dd6a4b8d   \n",
       "586240        586240  83b302c75378ce58e35ef93b6214a6ec330998c1   \n",
       "\n",
       "                                               paper_title  \\\n",
       "472257   The 17th Rocky Mountain Virology Association M...   \n",
       "209454   hCLE/C14orf166 Associates with DDX1-HSPC117-FA...   \n",
       "1931928  Complete viral RNA genome sequencing of ultra-...   \n",
       "363783   A1 Pirfenidone inhibits TGF-b1-induced extrace...   \n",
       "586240   Modeling pathogenesis of emergent and pre-emer...   \n",
       "\n",
       "                                                  sentence  \n",
       "472257   Treatment with 12 µM of imatinib reduced the p...  \n",
       "209454   Western blotting was carried out as described ...  \n",
       "1931928  For Ovation RNA-Seq version 1 reactions, no sh...  \n",
       "363783   Methods: ASCs were injected intravenously in w...  \n",
       "586240                               2015 Menachery et al.  "
      ]
     },
     "execution_count": 10,
     "metadata": {},
     "output_type": "execute_result"
    }
   ],
   "source": [
    "sentence_index.sample(n=5)"
   ]
  },
  {
   "cell_type": "code",
   "execution_count": 11,
   "metadata": {},
   "outputs": [],
   "source": [
    "from sklearn.feature_extraction.text import TfidfTransformer, CountVectorizer\n",
    "\n",
    "vectorizer = CountVectorizer()\n",
    "counts = vectorizer.fit_transform(docs)"
   ]
  },
  {
   "cell_type": "code",
   "execution_count": 12,
   "metadata": {},
   "outputs": [],
   "source": [
    "transformer = TfidfTransformer()\n",
    "pcount = transformer.fit_transform(counts)"
   ]
  },
  {
   "cell_type": "code",
   "execution_count": 13,
   "metadata": {},
   "outputs": [],
   "source": [
    "dcounts = counts.sum(axis=0)[0]"
   ]
  },
  {
   "cell_type": "code",
   "execution_count": 38,
   "metadata": {},
   "outputs": [],
   "source": [
    "word_usages = pd.DataFrame({'wcount': dcounts.tolist()[0], 'word': vectorizer.get_feature_names()})"
   ]
  },
  {
   "cell_type": "code",
   "execution_count": 56,
   "metadata": {},
   "outputs": [
    {
     "data": {
      "image/png": "[encoded data removed]",
      "text/plain": [
       "<Figure size 1188x576 with 1 Axes>"
      ]
     },
     "metadata": {
      "needs_background": "light"
     },
     "output_type": "display_data"
    }
   ],
   "source": [
    "import seaborn as sns\n",
    "import matplotlib.pyplot as plt\n",
    "\n",
    "def plot_dist(row, limit = None, title = None):\n",
    "    fig = plt.figure(figsize=(16.5, 8))\n",
    "    sns.distplot(row, bins=50)\n",
    "    \n",
    "    if limit:\n",
    "        plt.axvline(limit, label=\"\", color='tab:green')\n",
    "        stats = '{} < {} < {}'.format(sum(row < limit), limit, sum(row > limit))\n",
    "        ylim = fig.axes[0].get_ylim()\n",
    "        yloc = ((ylim[1] - ylim[0]) * .8) - ylim[0]\n",
    "        plt.annotate(stats, (limit, yloc), fontsize='large', horizontalalignment='center')\n",
    "        \n",
    "    if title:\n",
    "        plt.title(title)\n",
    "    \n",
    "    plt.show()\n",
    "\n",
    "    \n",
    "plot_dist(word_usages.query('wcount < 10').wcount)"
   ]
  },
  {
   "cell_type": "code",
   "execution_count": 52,
   "metadata": {},
   "outputs": [
    {
     "data": {
      "text/html": [
       "<div>\n",
       "<style scoped>\n",
       "    .dataframe tbody tr th:only-of-type {\n",
       "        vertical-align: middle;\n",
       "    }\n",
       "\n",
       "    .dataframe tbody tr th {\n",
       "        vertical-align: top;\n",
       "    }\n",
       "\n",
       "    .dataframe thead th {\n",
       "        text-align: right;\n",
       "    }\n",
       "</style>\n",
       "<table border=\"1\" class=\"dataframe\">\n",
       "  <thead>\n",
       "    <tr style=\"text-align: right;\">\n",
       "      <th></th>\n",
       "      <th>wcount</th>\n",
       "      <th>word</th>\n",
       "    </tr>\n",
       "  </thead>\n",
       "  <tbody>\n",
       "    <tr>\n",
       "      <td>298301</td>\n",
       "      <td>3</td>\n",
       "      <td>reconvene</td>\n",
       "    </tr>\n",
       "    <tr>\n",
       "      <td>182378</td>\n",
       "      <td>3</td>\n",
       "      <td>idis</td>\n",
       "    </tr>\n",
       "    <tr>\n",
       "      <td>57303</td>\n",
       "      <td>3</td>\n",
       "      <td>arstila</td>\n",
       "    </tr>\n",
       "    <tr>\n",
       "      <td>365134</td>\n",
       "      <td>3</td>\n",
       "      <td>vandenberg</td>\n",
       "    </tr>\n",
       "    <tr>\n",
       "      <td>124148</td>\n",
       "      <td>3</td>\n",
       "      <td>dunstan</td>\n",
       "    </tr>\n",
       "    <tr>\n",
       "      <td>...</td>\n",
       "      <td>...</td>\n",
       "      <td>...</td>\n",
       "    </tr>\n",
       "    <tr>\n",
       "      <td>349742</td>\n",
       "      <td>1110975</td>\n",
       "      <td>to</td>\n",
       "    </tr>\n",
       "    <tr>\n",
       "      <td>186566</td>\n",
       "      <td>1403951</td>\n",
       "      <td>in</td>\n",
       "    </tr>\n",
       "    <tr>\n",
       "      <td>51532</td>\n",
       "      <td>1731044</td>\n",
       "      <td>and</td>\n",
       "    </tr>\n",
       "    <tr>\n",
       "      <td>255754</td>\n",
       "      <td>2042328</td>\n",
       "      <td>of</td>\n",
       "    </tr>\n",
       "    <tr>\n",
       "      <td>346145</td>\n",
       "      <td>2982263</td>\n",
       "      <td>the</td>\n",
       "    </tr>\n",
       "  </tbody>\n",
       "</table>\n",
       "<p>149774 rows × 2 columns</p>\n",
       "</div>"
      ],
      "text/plain": [
       "         wcount        word\n",
       "298301        3   reconvene\n",
       "182378        3        idis\n",
       "57303         3     arstila\n",
       "365134        3  vandenberg\n",
       "124148        3     dunstan\n",
       "...         ...         ...\n",
       "349742  1110975          to\n",
       "186566  1403951          in\n",
       "51532   1731044         and\n",
       "255754  2042328          of\n",
       "346145  2982263         the\n",
       "\n",
       "[149774 rows x 2 columns]"
      ]
     },
     "execution_count": 52,
     "metadata": {},
     "output_type": "execute_result"
    }
   ],
   "source": [
    "word_usages.query('2 < wcount').sort_values(by='wcount')"
   ]
  },
  {
   "cell_type": "markdown",
   "metadata": {},
   "source": [
    "# Stop point\n",
    "\n",
    "1. We have our docs ready at `docs` for BERT vectorization if we where at pytorch, we will calculate the sentence ponderated average in GPU. But we are on tensor\n",
    "2. We have to code a recoverable way for word to vector in BERT which handle gracefully not found words.\n",
    "3. Then, we can add a ponderated average vector to `index` dataframe"
   ]
  },
  {
   "cell_type": "code",
   "execution_count": null,
   "metadata": {},
   "outputs": [],
   "source": []
  },
  {
   "cell_type": "markdown",
   "metadata": {},
   "source": [
    "# Auxiliary cells (used on the build of others)"
   ]
  },
  {
   "cell_type": "code",
   "execution_count": 18,
   "metadata": {},
   "outputs": [
    {
     "name": "stdout",
     "output_type": "stream",
     "text": [
      "paper_id\n",
      "metadata\n",
      "-title\n",
      "-authors\n",
      "abstract\n",
      "body_text\n",
      "bib_entries\n",
      "-BIBREF0\n",
      "--ref_id\n",
      "--title\n",
      "--authors\n",
      "--year\n",
      "--venue\n",
      "--volume\n",
      "--issn\n",
      "--pages\n",
      "--other_ids\n",
      "-BIBREF1\n",
      "--ref_id\n",
      "--title\n",
      "--authors\n",
      "--year\n",
      "--venue\n",
      "--volume\n",
      "--issn\n",
      "--pages\n",
      "--other_ids\n",
      "-BIBREF2\n",
      "--ref_id\n",
      "--title\n",
      "--authors\n",
      "--year\n",
      "--venue\n",
      "--volume\n",
      "--issn\n",
      "--pages\n",
      "--other_ids\n",
      "-BIBREF3\n",
      "--ref_id\n",
      "--title\n",
      "--authors\n",
      "--year\n",
      "--venue\n",
      "--volume\n",
      "--issn\n",
      "--pages\n",
      "--other_ids\n",
      "-BIBREF4\n",
      "--ref_id\n",
      "--title\n",
      "--authors\n",
      "--year\n",
      "--venue\n",
      "--volume\n",
      "--issn\n",
      "--pages\n",
      "--other_ids\n",
      "-BIBREF5\n",
      "--ref_id\n",
      "--title\n",
      "--authors\n",
      "--year\n",
      "--venue\n",
      "--volume\n",
      "--issn\n",
      "--pages\n",
      "--other_ids\n",
      "-BIBREF6\n",
      "--ref_id\n",
      "--title\n",
      "--authors\n",
      "--year\n",
      "--venue\n",
      "--volume\n",
      "--issn\n",
      "--pages\n",
      "--other_ids\n",
      "-BIBREF7\n",
      "--ref_id\n",
      "--title\n",
      "--authors\n",
      "--year\n",
      "--venue\n",
      "--volume\n",
      "--issn\n",
      "--pages\n",
      "--other_ids\n",
      "-BIBREF8\n",
      "--ref_id\n",
      "--title\n",
      "--authors\n",
      "--year\n",
      "--venue\n",
      "--volume\n",
      "--issn\n",
      "--pages\n",
      "--other_ids\n",
      "-BIBREF9\n",
      "--ref_id\n",
      "--title\n",
      "--authors\n",
      "--year\n",
      "--venue\n",
      "--volume\n",
      "--issn\n",
      "--pages\n",
      "--other_ids\n",
      "-BIBREF10\n",
      "--ref_id\n",
      "--title\n",
      "--authors\n",
      "--year\n",
      "--venue\n",
      "--volume\n",
      "--issn\n",
      "--pages\n",
      "--other_ids\n",
      "-BIBREF11\n",
      "--ref_id\n",
      "--title\n",
      "--authors\n",
      "--year\n",
      "--venue\n",
      "--volume\n",
      "--issn\n",
      "--pages\n",
      "--other_ids\n",
      "-BIBREF12\n",
      "--ref_id\n",
      "--title\n",
      "--authors\n",
      "--year\n",
      "--venue\n",
      "--volume\n",
      "--issn\n",
      "--pages\n",
      "--other_ids\n",
      "-BIBREF13\n",
      "--ref_id\n",
      "--title\n",
      "--authors\n",
      "--year\n",
      "--venue\n",
      "--volume\n",
      "--issn\n",
      "--pages\n",
      "--other_ids\n",
      "-BIBREF14\n",
      "--ref_id\n",
      "--title\n",
      "--authors\n",
      "--year\n",
      "--venue\n",
      "--volume\n",
      "--issn\n",
      "--pages\n",
      "--other_ids\n",
      "-BIBREF15\n",
      "--ref_id\n",
      "--title\n",
      "--authors\n",
      "--year\n",
      "--venue\n",
      "--volume\n",
      "--issn\n",
      "--pages\n",
      "--other_ids\n",
      "-BIBREF16\n",
      "--ref_id\n",
      "--title\n",
      "--authors\n",
      "--year\n",
      "--venue\n",
      "--volume\n",
      "--issn\n",
      "--pages\n",
      "--other_ids\n",
      "-BIBREF17\n",
      "--ref_id\n",
      "--title\n",
      "--authors\n",
      "--year\n",
      "--venue\n",
      "--volume\n",
      "--issn\n",
      "--pages\n",
      "--other_ids\n",
      "-BIBREF18\n",
      "--ref_id\n",
      "--title\n",
      "--authors\n",
      "--year\n",
      "--venue\n",
      "--volume\n",
      "--issn\n",
      "--pages\n",
      "--other_ids\n",
      "-BIBREF19\n",
      "--ref_id\n",
      "--title\n",
      "--authors\n",
      "--year\n",
      "--venue\n",
      "--volume\n",
      "--issn\n",
      "--pages\n",
      "--other_ids\n",
      "-BIBREF20\n",
      "--ref_id\n",
      "--title\n",
      "--authors\n",
      "--year\n",
      "--venue\n",
      "--volume\n",
      "--issn\n",
      "--pages\n",
      "--other_ids\n",
      "-BIBREF21\n",
      "--ref_id\n",
      "--title\n",
      "--authors\n",
      "--year\n",
      "--venue\n",
      "--volume\n",
      "--issn\n",
      "--pages\n",
      "--other_ids\n",
      "-BIBREF22\n",
      "--ref_id\n",
      "--title\n",
      "--authors\n",
      "--year\n",
      "--venue\n",
      "--volume\n",
      "--issn\n",
      "--pages\n",
      "--other_ids\n",
      "-BIBREF23\n",
      "--ref_id\n",
      "--title\n",
      "--authors\n",
      "--year\n",
      "--venue\n",
      "--volume\n",
      "--issn\n",
      "--pages\n",
      "--other_ids\n",
      "-BIBREF24\n",
      "--ref_id\n",
      "--title\n",
      "--authors\n",
      "--year\n",
      "--venue\n",
      "--volume\n",
      "--issn\n",
      "--pages\n",
      "--other_ids\n",
      "-BIBREF25\n",
      "--ref_id\n",
      "--title\n",
      "--authors\n",
      "--year\n",
      "--venue\n",
      "--volume\n",
      "--issn\n",
      "--pages\n",
      "--other_ids\n",
      "-BIBREF26\n",
      "--ref_id\n",
      "--title\n",
      "--authors\n",
      "--year\n",
      "--venue\n",
      "--volume\n",
      "--issn\n",
      "--pages\n",
      "--other_ids\n",
      "-BIBREF27\n",
      "--ref_id\n",
      "--title\n",
      "--authors\n",
      "--year\n",
      "--venue\n",
      "--volume\n",
      "--issn\n",
      "--pages\n",
      "--other_ids\n",
      "-BIBREF28\n",
      "--ref_id\n",
      "--title\n",
      "--authors\n",
      "--year\n",
      "--venue\n",
      "--volume\n",
      "--issn\n",
      "--pages\n",
      "--other_ids\n",
      "-BIBREF29\n",
      "--ref_id\n",
      "--title\n",
      "--authors\n",
      "--year\n",
      "--venue\n",
      "--volume\n",
      "--issn\n",
      "--pages\n",
      "--other_ids\n",
      "-BIBREF30\n",
      "--ref_id\n",
      "--title\n",
      "--authors\n",
      "--year\n",
      "--venue\n",
      "--volume\n",
      "--issn\n",
      "--pages\n",
      "--other_ids\n",
      "-BIBREF31\n",
      "--ref_id\n",
      "--title\n",
      "--authors\n",
      "--year\n",
      "--venue\n",
      "--volume\n",
      "--issn\n",
      "--pages\n",
      "--other_ids\n",
      "-BIBREF32\n",
      "--ref_id\n",
      "--title\n",
      "--authors\n",
      "--year\n",
      "--venue\n",
      "--volume\n",
      "--issn\n",
      "--pages\n",
      "--other_ids\n",
      "-BIBREF33\n",
      "--ref_id\n",
      "--title\n",
      "--authors\n",
      "--year\n",
      "--venue\n",
      "--volume\n",
      "--issn\n",
      "--pages\n",
      "--other_ids\n",
      "-BIBREF34\n",
      "--ref_id\n",
      "--title\n",
      "--authors\n",
      "--year\n",
      "--venue\n",
      "--volume\n",
      "--issn\n",
      "--pages\n",
      "--other_ids\n",
      "-BIBREF35\n",
      "--ref_id\n",
      "--title\n",
      "--authors\n",
      "--year\n",
      "--venue\n",
      "--volume\n",
      "--issn\n",
      "--pages\n",
      "--other_ids\n",
      "-BIBREF36\n",
      "--ref_id\n",
      "--title\n",
      "--authors\n",
      "--year\n",
      "--venue\n",
      "--volume\n",
      "--issn\n",
      "--pages\n",
      "--other_ids\n",
      "-BIBREF37\n",
      "--ref_id\n",
      "--title\n",
      "--authors\n",
      "--year\n",
      "--venue\n",
      "--volume\n",
      "--issn\n",
      "--pages\n",
      "--other_ids\n",
      "ref_entries\n",
      "-FIGREF0\n",
      "--text\n",
      "--latex\n",
      "--type\n",
      "-FIGREF1\n",
      "--text\n",
      "--latex\n",
      "--type\n",
      "-FIGREF2\n",
      "--text\n",
      "--latex\n",
      "--type\n",
      "-TABREF1\n",
      "--text\n",
      "--latex\n",
      "--type\n",
      "back_matter\n"
     ]
    }
   ],
   "source": [
    "# Exploring json structure\n",
    "\n",
    "def print_keys(dict_to_traverse: dict, indent = ''):\n",
    "    for key, value in dict_to_traverse.items():\n",
    "        print(f'{indent}{key}')\n",
    "        if type(value) == dict:\n",
    "            print_keys(value, f'-{indent}')\n",
    "\n",
    "print_keys(data)"
   ]
  },
  {
   "cell_type": "code",
   "execution_count": null,
   "metadata": {},
   "outputs": [],
   "source": []
  }
 ],
 "metadata": {
  "kernelspec": {
   "display_name": "Python 3",
   "language": "python",
   "name": "python3"
  },
  "language_info": {
   "codemirror_mode": {
    "name": "ipython",
    "version": 3
   },
   "file_extension": ".py",
   "mimetype": "text/x-python",
   "name": "python",
   "nbconvert_exporter": "python",
   "pygments_lexer": "ipython3",
   "version": "3.7.4"
  }
 },
 "nbformat": 4,
 "nbformat_minor": 4
}
